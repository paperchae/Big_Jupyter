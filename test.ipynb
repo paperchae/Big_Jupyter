{
 "cells": [
  {
   "cell_type": "code",
   "execution_count": 50,
   "metadata": {
    "scrolled": true
   },
   "outputs": [
    {
     "name": "stdout",
     "output_type": "stream",
     "text": [
      "       idx    from      to  distance\n",
      "0        a       1       2       803\n",
      "1        a       2       1       803\n",
      "2        a       3       4       158\n",
      "3        a       4       3       158\n",
      "4        a       5       6       774\n",
      "...     ..     ...     ...       ...\n",
      "733841   a  239390  239392      1557\n",
      "733842   a  263466  263813       106\n",
      "733843   a  263813  263466       106\n",
      "733844   a  261228  259707       389\n",
      "733845   a  259707  261228       389\n",
      "\n",
      "[733846 rows x 4 columns]\n"
     ]
    }
   ],
   "source": [
    "import pandas as pd\n",
    "col_name = ['idx','from','to','distance']\n",
    "dis_df = pd.read_csv('USA-road-d.NY.gr',sep=' ',skiprows=7,names = col_name)\n",
    "print(dis_df)\n",
    "temp = dis_df.drop(['idx'],axis=1)\n",
    "print(temp)\n",
    "dis_list=temp.values.tolist()\n",
    "print(dis_list[:10])"
   ]
  },
  {
   "cell_type": "code",
   "execution_count": 53,
   "metadata": {},
   "outputs": [
    {
     "name": "stdout",
     "output_type": "stream",
     "text": [
      "733846\n"
     ]
    }
   ],
   "source": [
    "print(len(dis_list))"
   ]
  },
  {
   "cell_type": "code",
   "execution_count": 56,
   "metadata": {},
   "outputs": [
    {
     "name": "stdout",
     "output_type": "stream",
     "text": [
      "       idx  location       lat      long\n",
      "0        v         1 -73530767  41085396\n",
      "1        v         2 -73530538  41086098\n",
      "2        v         3 -73519366  41048796\n",
      "3        v         4 -73519377  41048654\n",
      "4        v         5 -73524567  41093796\n",
      "...     ..       ...       ...       ...\n",
      "264341   v    264342 -73532027  41193370\n",
      "264342   v    264343 -73709010  40957343\n",
      "264343   v    264344 -73820681  40994683\n",
      "264344   v    264345 -73714376  41004205\n",
      "264345   v    264346 -73917690  41291980\n",
      "\n",
      "[264346 rows x 4 columns]\n",
      "        location       lat      long\n",
      "0              1 -73530767  41085396\n",
      "1              2 -73530538  41086098\n",
      "2              3 -73519366  41048796\n",
      "3              4 -73519377  41048654\n",
      "4              5 -73524567  41093796\n",
      "...          ...       ...       ...\n",
      "264341    264342 -73532027  41193370\n",
      "264342    264343 -73709010  40957343\n",
      "264343    264344 -73820681  40994683\n",
      "264344    264345 -73714376  41004205\n",
      "264345    264346 -73917690  41291980\n",
      "\n",
      "[264346 rows x 3 columns]\n",
      "[[1, -73530767, 41085396], [2, -73530538, 41086098], [3, -73519366, 41048796], [4, -73519377, 41048654], [5, -73524567, 41093796], [6, -73525490, 41093834], [7, -73531927, 41110484], [8, -73530106, 41110611], [9, -73529341, 41125895], [10, -73529746, 41127369]]\n"
     ]
    }
   ],
   "source": [
    "import pandas as pd\n",
    "\n",
    "col_name = ['idx','location','lat','long']\n",
    "coor_df = pd.read_csv('USA-road-d.NY.co',sep=' ',skiprows=7,names = col_name)\n",
    "print(coor_df)\n",
    "temp = coor_df.drop(['idx'],axis=1)\n",
    "print(temp)\n",
    "coor_list=temp.values.tolist()\n",
    "print(dis_list[:10])"
   ]
  },
  {
   "cell_type": "code",
   "execution_count": 78,
   "metadata": {},
   "outputs": [
    {
     "name": "stdout",
     "output_type": "stream",
     "text": [
      "1\n",
      "2\n",
      "41.085396 , -73.530767\n",
      "41.086098 , -73.530538\n",
      "80.37981777019407\n"
     ]
    }
   ],
   "source": [
    "import math\n",
    "\n",
    "def Radians_to_Decimal(rad):\n",
    "    return (rad*180/math.pi)\n",
    "\n",
    "def Decimal_to_Radians(deg):\n",
    "    return (deg*math.pi/180)\n",
    "\n",
    "def Get_Distance(lat1, lon1, lat2, lon2):\n",
    "    theta, dist = 0.0,0.0\n",
    "    if((lat1==lat2) and (lon1==lon2)):\n",
    "        return 0\n",
    "    else:\n",
    "        theta=lon1-lon2\n",
    "        dist = math.sin(Decimal_to_Radians(lat1))*math.sin(Decimal_to_Radians(lat2)) + math.cos(Decimal_to_Radians(lat1))*math.cos(Decimal_to_Radians(lat2))*math.cos(Decimal_to_Radians(theta))\n",
    "        dist = math.acos(dist)\n",
    "        dist = Radians_to_Decimal(dist)\n",
    "        dist = dist * 60 * 1.1515\n",
    "        dist = dist * 1.609344 * 1000\n",
    "        return dist;\n",
    "\n",
    "start = int(input())\n",
    "end = int(input())\n",
    "\n",
    "#print(coor_list[0][1]/1000000)\n",
    "#print(coor_list[0][2]/1000000)\n",
    "\n",
    "x1 = coor_list[start-1][2]/1000000\n",
    "y1 = coor_list[start-1][1]/1000000\n",
    "x2 = coor_list[end-1][2]/1000000\n",
    "y2 = coor_list[end-1][1]/1000000\n",
    "print(x1,',',y1)\n",
    "print(x2,',',y2)\n",
    "d = Get_Distance(x1,y1,x2,y2)\n",
    "\n",
    "print(d)"
   ]
  },
  {
   "cell_type": "code",
   "execution_count": null,
   "metadata": {},
   "outputs": [],
   "source": []
  }
 ],
 "metadata": {
  "kernelspec": {
   "display_name": "Python 3",
   "language": "python",
   "name": "python3"
  },
  "language_info": {
   "codemirror_mode": {
    "name": "ipython",
    "version": 3
   },
   "file_extension": ".py",
   "mimetype": "text/x-python",
   "name": "python",
   "nbconvert_exporter": "python",
   "pygments_lexer": "ipython3",
   "version": "3.7.3"
  }
 },
 "nbformat": 4,
 "nbformat_minor": 4
}
