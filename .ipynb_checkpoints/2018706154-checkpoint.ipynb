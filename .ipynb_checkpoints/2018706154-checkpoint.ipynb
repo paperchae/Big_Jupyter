{
 "cells": [
  {
   "cell_type": "code",
   "execution_count": 2,
   "metadata": {
    "scrolled": true
   },
   "outputs": [
    {
     "name": "stdout",
     "output_type": "stream",
     "text": [
      "       idx    from      to  distance\n",
      "0        a       1       2       803\n",
      "1        a       2       1       803\n",
      "2        a       3       4       158\n",
      "3        a       4       3       158\n",
      "4        a       5       6       774\n",
      "...     ..     ...     ...       ...\n",
      "733841   a  239390  239392      1557\n",
      "733842   a  263466  263813       106\n",
      "733843   a  263813  263466       106\n",
      "733844   a  261228  259707       389\n",
      "733845   a  259707  261228       389\n",
      "\n",
      "[733846 rows x 4 columns]\n",
      "          from      to  distance\n",
      "0            1       2       803\n",
      "1            2       1       803\n",
      "2            3       4       158\n",
      "3            4       3       158\n",
      "4            5       6       774\n",
      "...        ...     ...       ...\n",
      "733841  239390  239392      1557\n",
      "733842  263466  263813       106\n",
      "733843  263813  263466       106\n",
      "733844  261228  259707       389\n",
      "733845  259707  261228       389\n",
      "\n",
      "[733846 rows x 3 columns]\n",
      "[[1, 2, 803], [2, 1, 803], [3, 4, 158], [4, 3, 158], [5, 6, 774], [6, 5, 774], [7, 8, 1531], [8, 7, 1531], [9, 10, 1673], [10, 9, 1673]]\n"
     ]
    }
   ],
   "source": [
    "import pandas as pd\n",
    "\n",
    "col_name = ['idx','from','to','distance']\n",
    "dis_df = pd.read_csv('USA-road-d.NY.gr',sep=' ',skiprows=7,names = col_name)\n",
    "print(dis_df)\n",
    "temp = dis_df.drop(['idx'],axis=1)\n",
    "print(temp)\n",
    "dis_list=temp.values.tolist()\n",
    "print(dis_list[:10])"
   ]
  },
  {
   "cell_type": "code",
   "execution_count": null,
   "metadata": {},
   "outputs": [
    {
     "name": "stderr",
     "output_type": "stream",
     "text": [
      "  2%|▏         | 18260/733846 [56:49<70:54:26,  2.80it/s] "
     ]
    }
   ],
   "source": [
    "from py2neo import Graph, Node, Relationship\n",
    "import heapq\n",
    "\n",
    "g = Graph()\n",
    "n = 264346\n",
    "\n",
    "nodes = [Node(\"Node\",name=str(i)) for i in range(n)] # 264346개의 노드 생성\n",
    "tx = g.begin()\n",
    "for i in tqdm(dis_list,mininterval=0.01):\n",
    "    re = Relationship(nodes[i[0]],\"DIST\",nodes[i[1]],dist=str(i[2]))\n",
    "    tx.create(re)\n",
    "tx.commit()\n",
    "\n",
    "if tx.finished()==False:\n",
    "    print('transaction is still open')\n",
    "else:\n",
    "    print('transaction has been completed')"
   ]
  },
  {
   "cell_type": "code",
   "execution_count": 22,
   "metadata": {},
   "outputs": [],
   "source": [
    "df_to_dict = []\n",
    "\n",
    "#0번 node부터 관계 값을 가져와 dataframe으로 저장\n",
    "for i in range(n):\n",
    "    df = g.run(\"match(a)-[r]->(b)\"\n",
    "              \"where a.name = $name\"\n",
    "              \"return a.name as node1, r.dist as dist, b.name as node2\",\n",
    "              {\"name\":str(i)}).to_data_frame()\n",
    "    df_to_dict.append([])\n",
    "    for j in range(len(df)):\n",
    "        df_to_dict[i].append( (df.loc[j,'node2'],int(df.loc[j,'dist'])))\n",
    "        \n",
    "#dataframe을 dictionary로 변환\n",
    "#dictionary 구조 : 기준 노드 {가리키는 노드1:두 노드의 거리1, 가리키는 노드2:두 노드의 거리2, ...}\n",
    "\n",
    "dic = dict()\n",
    "for i in range(n):\n",
    "    dic.update({str(i):dict(df_to_dict[i])})\n",
    "\n",
    "print(dic)\n",
    "print(type(dic))\n",
    "print(len(dic))"
   ]
  },
  {
   "cell_type": "code",
   "execution_count": null,
   "metadata": {},
   "outputs": [],
   "source": []
  }
 ],
 "metadata": {
  "kernelspec": {
   "display_name": "Python 3",
   "language": "python",
   "name": "python3"
  },
  "language_info": {
   "codemirror_mode": {
    "name": "ipython",
    "version": 3
   },
   "file_extension": ".py",
   "mimetype": "text/x-python",
   "name": "python",
   "nbconvert_exporter": "python",
   "pygments_lexer": "ipython3",
   "version": "3.7.3"
  }
 },
 "nbformat": 4,
 "nbformat_minor": 4
}
