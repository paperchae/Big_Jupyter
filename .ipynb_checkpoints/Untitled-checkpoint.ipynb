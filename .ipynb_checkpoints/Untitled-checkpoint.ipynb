{
 "cells": [
  {
   "cell_type": "code",
   "execution_count": 1,
   "metadata": {},
   "outputs": [],
   "source": [
    "from py2neo import Graph"
   ]
  },
  {
   "cell_type": "code",
   "execution_count": 5,
   "metadata": {},
   "outputs": [
    {
     "data": {
      "text/plain": [
       "Graph('bolt://neo4j@localhost:7687')"
      ]
     },
     "execution_count": 5,
     "metadata": {},
     "output_type": "execute_result"
    }
   ],
   "source": [
    "graph_1 = Graph()\n",
    "graph_1\n",
    "graph_2 = Graph(\"bolt://localhost:7687\",auth=(\"neo4j\",\"password\"))\n",
    "graph_2"
   ]
  },
  {
   "cell_type": "code",
   "execution_count": 9,
   "metadata": {},
   "outputs": [
    {
     "name": "stdout",
     "output_type": "stream",
     "text": [
      "transaction has been completed\n"
     ]
    }
   ],
   "source": [
    "from py2neo import Graph, Node, Relationship\n",
    "\n",
    "g=Graph()\n",
    "node_0 = Node(\"Node\",name=\"0\")\n",
    "node_1 = Node(\"Node\",name=\"1\")\n",
    "re_01 = Relationship(node_0,\"DIST\",node_1,dist=100)\n",
    "\n",
    "tx = g.begin()\n",
    "tx.create(re_01)\n",
    "tx.commit()\n",
    "if tx.finished() ==False:\n",
    "    print('transaction is still open')\n",
    "else:\n",
    "    print('transaction has been completed')"
   ]
  },
  {
   "cell_type": "code",
   "execution_count": 10,
   "metadata": {},
   "outputs": [
    {
     "data": {
      "text/plain": [
       " n                     \n",
       "-----------------------\n",
       " (_2:Node {name: '0'}) \n",
       " (_3:Node {name: '1'}) \n",
       " (_4:Node {name: '0'}) "
      ]
     },
     "execution_count": 10,
     "metadata": {},
     "output_type": "execute_result"
    }
   ],
   "source": [
    "g.run(\"MATCH(n) RETURN(n)\")"
   ]
  },
  {
   "cell_type": "code",
   "execution_count": 15,
   "metadata": {},
   "outputs": [],
   "source": [
    "g = Graph()\n",
    "\n",
    "g.evaluate(\"create(:Node{name:$name1})-[:DIST]->(:Node{name: $name2})\",{\"name1\":\"2\",\"name2\":\"3\"})"
   ]
  },
  {
   "cell_type": "code",
   "execution_count": 16,
   "metadata": {},
   "outputs": [
    {
     "data": {
      "text/plain": [
       " n                     \n",
       "-----------------------\n",
       " (_2:Node {name: '0'}) \n",
       " (_3:Node {name: '1'}) \n",
       " (_4:Node {name: '0'}) "
      ]
     },
     "execution_count": 16,
     "metadata": {},
     "output_type": "execute_result"
    }
   ],
   "source": [
    "g.run(\"match(n) return(n)\")"
   ]
  },
  {
   "cell_type": "code",
   "execution_count": 17,
   "metadata": {},
   "outputs": [
    {
     "data": {
      "text/html": [
       "<table><tr><th>n</th></tr><tr><td style=\"text-align:left\">(_2:Node {name: &#039;0&#039;})</td></tr><tr><td style=\"text-align:left\">(_3:Node {name: &#039;1&#039;})</td></tr><tr><td style=\"text-align:left\">(_4:Node {name: &#039;0&#039;})</td></tr><tr><td style=\"text-align:left\">(_5:Node {name: &#039;1&#039;})</td></tr><tr><td style=\"text-align:left\">(_6:Node {name: &#039;0&#039;})</td></tr><tr><td style=\"text-align:left\">(_7:Node {name: &#039;1&#039;})</td></tr><tr><td style=\"text-align:left\">(_8:Node {name: &#039;2&#039;})</td></tr><tr><td style=\"text-align:left\">(_9:Node {name: &#039;3&#039;})</td></tr><tr><td style=\"text-align:left\">(_10:Node {name: &#039;2&#039;})</td></tr><tr><td style=\"text-align:left\">(_11:Node {name: &#039;3&#039;})</td></tr></table>"
      ],
      "text/plain": [
       " n                      \n",
       "------------------------\n",
       " (_2:Node {name: '0'})  \n",
       " (_3:Node {name: '1'})  \n",
       " (_4:Node {name: '0'})  \n",
       " (_5:Node {name: '1'})  \n",
       " (_6:Node {name: '0'})  \n",
       " (_7:Node {name: '1'})  \n",
       " (_8:Node {name: '2'})  \n",
       " (_9:Node {name: '3'})  \n",
       " (_10:Node {name: '2'}) \n",
       " (_11:Node {name: '3'}) "
      ]
     },
     "execution_count": 17,
     "metadata": {},
     "output_type": "execute_result"
    }
   ],
   "source": [
    "g.run(\"match(n) return (n)\").to_table()"
   ]
  },
  {
   "cell_type": "code",
   "execution_count": 21,
   "metadata": {},
   "outputs": [
    {
     "data": {
      "text/html": [
       "<div>\n",
       "<style scoped>\n",
       "    .dataframe tbody tr th:only-of-type {\n",
       "        vertical-align: middle;\n",
       "    }\n",
       "\n",
       "    .dataframe tbody tr th {\n",
       "        vertical-align: top;\n",
       "    }\n",
       "\n",
       "    .dataframe thead th {\n",
       "        text-align: right;\n",
       "    }\n",
       "</style>\n",
       "<table border=\"1\" class=\"dataframe\">\n",
       "  <thead>\n",
       "    <tr style=\"text-align: right;\">\n",
       "      <th></th>\n",
       "      <th>n</th>\n",
       "    </tr>\n",
       "  </thead>\n",
       "  <tbody>\n",
       "    <tr>\n",
       "      <th>0</th>\n",
       "      <td>{'name': '0'}</td>\n",
       "    </tr>\n",
       "    <tr>\n",
       "      <th>1</th>\n",
       "      <td>{'name': '1'}</td>\n",
       "    </tr>\n",
       "    <tr>\n",
       "      <th>2</th>\n",
       "      <td>{'name': '0'}</td>\n",
       "    </tr>\n",
       "    <tr>\n",
       "      <th>3</th>\n",
       "      <td>{'name': '1'}</td>\n",
       "    </tr>\n",
       "    <tr>\n",
       "      <th>4</th>\n",
       "      <td>{'name': '0'}</td>\n",
       "    </tr>\n",
       "    <tr>\n",
       "      <th>5</th>\n",
       "      <td>{'name': '1'}</td>\n",
       "    </tr>\n",
       "    <tr>\n",
       "      <th>6</th>\n",
       "      <td>{'name': '2'}</td>\n",
       "    </tr>\n",
       "    <tr>\n",
       "      <th>7</th>\n",
       "      <td>{'name': '3'}</td>\n",
       "    </tr>\n",
       "    <tr>\n",
       "      <th>8</th>\n",
       "      <td>{'name': '2'}</td>\n",
       "    </tr>\n",
       "    <tr>\n",
       "      <th>9</th>\n",
       "      <td>{'name': '3'}</td>\n",
       "    </tr>\n",
       "  </tbody>\n",
       "</table>\n",
       "</div>"
      ],
      "text/plain": [
       "               n\n",
       "0  {'name': '0'}\n",
       "1  {'name': '1'}\n",
       "2  {'name': '0'}\n",
       "3  {'name': '1'}\n",
       "4  {'name': '0'}\n",
       "5  {'name': '1'}\n",
       "6  {'name': '2'}\n",
       "7  {'name': '3'}\n",
       "8  {'name': '2'}\n",
       "9  {'name': '3'}"
      ]
     },
     "execution_count": 21,
     "metadata": {},
     "output_type": "execute_result"
    }
   ],
   "source": [
    "g.run(\"match(n) return n\").to_data_frame()"
   ]
  },
  {
   "cell_type": "code",
   "execution_count": 20,
   "metadata": {},
   "outputs": [
    {
     "data": {
      "text/plain": [
       "array([[Node('Node', name='0')],\n",
       "       [Node('Node', name='1')],\n",
       "       [Node('Node', name='0')],\n",
       "       [Node('Node', name='1')],\n",
       "       [Node('Node', name='0')],\n",
       "       [Node('Node', name='1')],\n",
       "       [Node('Node', name='2')],\n",
       "       [Node('Node', name='3')],\n",
       "       [Node('Node', name='2')],\n",
       "       [Node('Node', name='3')]], dtype=object)"
      ]
     },
     "execution_count": 20,
     "metadata": {},
     "output_type": "execute_result"
    }
   ],
   "source": [
    "g.run(\"match(n) return n\").to_ndarray()"
   ]
  },
  {
   "cell_type": "code",
   "execution_count": null,
   "metadata": {},
   "outputs": [],
   "source": []
  }
 ],
 "metadata": {
  "kernelspec": {
   "display_name": "Python 3",
   "language": "python",
   "name": "python3"
  },
  "language_info": {
   "codemirror_mode": {
    "name": "ipython",
    "version": 3
   },
   "file_extension": ".py",
   "mimetype": "text/x-python",
   "name": "python",
   "nbconvert_exporter": "python",
   "pygments_lexer": "ipython3",
   "version": "3.7.3"
  }
 },
 "nbformat": 4,
 "nbformat_minor": 4
}
