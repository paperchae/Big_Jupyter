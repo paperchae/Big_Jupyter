{
 "cells": [
  {
   "cell_type": "code",
   "execution_count": null,
   "metadata": {},
   "outputs": [],
   "source": [
    "# neo4j 사용법\n",
    "\n",
    "# create node\n",
    "create(:person{name:'kim',age:22})\n",
    "create(:person{name:'park',age:26})\n",
    "\n",
    "# create relationship\n",
    "# kim node 와 park node가 존재해도 match를 이용하지 않으면 새로운 노드를 생성하게 됨\n",
    "create(:person{name:'kim'})-[:knows{since:2002}]->(:person{name:'park'})\n",
    "# match 사용\n",
    "match(p1:person{name:'kim'}) \n",
    "match(p2:person{name:'park'}) \n",
    "create(p1)-[:knows{since:2002}]->(p2)\n",
    "\n",
    "# Delete Node\n",
    "# delete single node \n",
    "match(n:person{name:'UNKNOWN'})\n",
    "delete n\n",
    "# delete all nodes nad relationships\n",
    "match(n)\n",
    "detach delete n\n",
    "# delete a node with all its relationships\n",
    "match(n{name:'andy'})\n",
    "detach delete n\n",
    "\n",
    "# delete relationship only\n",
    "match (n{name:'andy'})-[r:KNOWS]->()\n",
    "delete r\n",
    "\n",
    "#Querying Graphs\n",
    "\n",
    "match (a:Person{name:'jim'})-[:knows]->(b)-[:knows]->(c),(a)-[:KNOWS]->(c)\n",
    "return b,c\n",
    "# == \n",
    "match (a:Person)-[:KNOWS]->(b)-[:KNOWS]->(c),(a)-[:KNOWS]->(c)\n",
    "where a.name='jim'\n",
    "return b,c"
   ]
  },
  {
   "cell_type": "code",
   "execution_count": 1,
   "metadata": {},
   "outputs": [
    {
     "name": "stdout",
     "output_type": "stream",
     "text": [
      "transaction has been completed\n"
     ]
    }
   ],
   "source": [
    "#Dijkstra 예제(1/4)\n",
    "#노드와 관계 생성\n",
    "from py2neo import Graph, Node, Relationship\n",
    "import heapq\n",
    "\n",
    "g = Graph()\n",
    "n = 8\n",
    "#a = [from, to, weight]\n",
    "a =  [[0,1,11],\n",
    "     [0,2,9],\n",
    "     [0,3,8],\n",
    "     [1,4,8],\n",
    "     [1,5,8],\n",
    "     [2,1,3],\n",
    "     [2,3,6],\n",
    "     [2,6,1],\n",
    "     [3,6,10],\n",
    "     [4,5,7],\n",
    "     [5,2,12],\n",
    "     [5,7,5],\n",
    "     [6,7,2],\n",
    "     [7,4,4]]\n",
    "nodes = [Node(\"Node\",name=str(i)) for i in range(n)]  # 0-7의 이름을 가진 노드 생성\n",
    "\n",
    "#transaction 실행\n",
    "tx = g.begin()\n",
    "for i in a:\n",
    "    re = Relationship(nodes[i[0]],\"DIST\",nodes[i[1]],dist = str(i[2])) # 관계 생성 ( node, 간선, node, property)\n",
    "    tx.create(re)\n",
    "tx.commit()\n",
    "\n",
    "#transaction 종료 검사\n",
    "if tx.finished()==False:\n",
    "    print('transaction is still open')\n",
    "else:\n",
    "    print('transaction has been completed')"
   ]
  },
  {
   "cell_type": "code",
   "execution_count": 2,
   "metadata": {},
   "outputs": [
    {
     "name": "stdout",
     "output_type": "stream",
     "text": [
      "{'0': {'3': 8, '2': 9, '1': 11}, '1': {'5': 8, '4': 8}, '2': {'6': 1, '3': 6, '1': 3}, '3': {'6': 10}, '4': {'5': 7}, '5': {'7': 5, '2': 12}, '6': {'7': 2}, '7': {'4': 4}}\n",
      "<class 'dict'>\n",
      "8\n"
     ]
    }
   ],
   "source": [
    "# Dijkstra 예제(2/4)\n",
    "# DB 데이터 불러오기 (dataframe to dictionary)\n",
    "# node의 갯수가 많아지면 안되고 \n",
    "df_to_dict = []\n",
    "\n",
    "# 0번 노드부터 관계 값을 가져와 dataframe으로 저장\n",
    "for i in range(n):\n",
    "    df = g.run(\"match(a)-[r]->(b)\"\n",
    "              \"where a.name = $name \"\n",
    "              \"return a.name as ndoe1, r.dist as dist, b.name as node2\",\n",
    "              {\"name\":str(i)}).to_data_frame()#dataframe에 graph를 저장하는 함수\n",
    "    \n",
    "    df_to_dict.append([])\n",
    "    for j in range(len(df)):\n",
    "        df_to_dict[i].append( (df.loc[j,'node2'],int(df.loc[j,'dist'])) )\n",
    "\n",
    "# dataframe을 dictionary로 변환\n",
    "# dictionary 구조 : 기준 노드 {가리키는 노드1:두 노드의 거리1, 가리키는 노드2:두 노드의 거리2, ...}\n",
    "dic = dict()\n",
    "for i in range(n):\n",
    "    dic.update({str(i):dict(df_to_dict[i])})\n",
    "\n",
    "print(dic)\n",
    "print(type(dic))\n",
    "print(len(dic))"
   ]
  },
  {
   "cell_type": "code",
   "execution_count": 3,
   "metadata": {},
   "outputs": [],
   "source": [
    "# Dijkstra 예제(3/4)\n",
    "# 우선순위 큐 Dijkstra\n",
    "# push를 이용해서 인접한 정점들 집어넣고 제일 작은애를 pop시키고\n",
    "# 한개만 pop 두개는 그대로 남아있는데 \n",
    "# 한개를 push하면 이전에 있던 노드들이랑 다시 계산해서 항상 최소값을 유지할 수 있는 구조라서 heap을 사용하는 것\n",
    "def dijkstra(nodes,StartPoint,output):\n",
    "    opt_road = {node:float('INF')for node in nodes}\n",
    "    opt_road[StartPoint] = 0\n",
    "    heap = []\n",
    "    heapq.heappush(heap,[opt_road[StartPoint],StartPoint]) # 우선순위 큐\n",
    "    \n",
    "    while heap:\n",
    "        distance, pos = heapq.heappop(heap)# 원소 꺼내기\n",
    "        if opt_road[pos]<distance:\n",
    "            continue\n",
    "            \n",
    "        for arrival, distance2 in nodes[pos].items():\n",
    "            opt_dist = distance + distance2\n",
    "            \n",
    "            if opt_dist < opt_road[arrival]:\n",
    "                opt_road[arrival] = opt_dist\n",
    "                #경로저장\n",
    "                output[int(arrival)]=[int(pos),int(arrival),opt_dist]\n",
    "                heapq.heappush(heap,[opt_dist,arrival])# 원소삽입\n",
    "    return opt_road, output"
   ]
  },
  {
   "cell_type": "code",
   "execution_count": 4,
   "metadata": {},
   "outputs": [
    {
     "name": "stdout",
     "output_type": "stream",
     "text": [
      "result {'0': 0, '1': 11, '2': 9, '3': 8, '4': 16, '5': 19, '6': 10, '7': 12}\n",
      "output [[], [0, 1, 11], [0, 2, 9], [0, 3, 8], [7, 4, 16], [1, 5, 19], [2, 6, 10], [6, 7, 12]]\n"
     ]
    }
   ],
   "source": [
    "#dijkstra 알고리즘 실행 -0번 노드를 시작 노드로 지정\n",
    "\n",
    "output = [[] for i in range(n)]\n",
    "result, output = dijkstra(dic,'0',output)\n",
    "print('result',result)\n",
    "print('output',output)"
   ]
  },
  {
   "cell_type": "code",
   "execution_count": 5,
   "metadata": {},
   "outputs": [
    {
     "name": "stdout",
     "output_type": "stream",
     "text": [
      "transaction has been completed\n"
     ]
    }
   ],
   "source": [
    "#Dijkstra 예제(4/4)\n",
    "# 그래프 생성 최종 결과\n",
    "#연산된 거리 값을 각 노드에게 ㅐㅅ로운 property를 추가하여 입력\n",
    "for i in range(n):\n",
    "    nodes[i]['value']=result[str(i)]#node['new_property']:기존에 노드에 새로운 property 값 설정\n",
    "    g.push(nodes[i]) #Graph.push(): 이미 생성된 노드에 변경된 부분만 바영\n",
    "    \n",
    "for i in output:\n",
    "    if len(i)==0:\n",
    "        output.remove(i)\n",
    "        \n",
    "road_nodes = [Node(\"OptimalNode\",name=str(i)) for i in range(n)]\n",
    "\n",
    "#transaction 실행\n",
    "tx = g.begin()\n",
    "for i in output:\n",
    "    r = Relationship(road_nodes[i[0]],\"OPTIMAL\",road_nodes[i[1]],dist=str(i[2]))\n",
    "    tx.create(r)\n",
    "tx.commit()\n",
    "\n",
    "if tx.finished()==False:\n",
    "    print('transaction is still open')\n",
    "else:\n",
    "    print('transaction has been completed')"
   ]
  },
  {
   "cell_type": "code",
   "execution_count": null,
   "metadata": {},
   "outputs": [],
   "source": [
    "#########  A* algorithm  #########\n",
    "#best-First-Search\n",
    "#각 정점이 매력함수값 g(x)를 갖고 있다.\n",
    "# g(x)는 h(x)값 (heuristic 값 : 경험에 의해 얻어지는 방법)를 갖는다\n",
    "# g(x)는 현재 노드에서 바로 다음노드까지의 거리 ( 8퍼즐에선 지금까지 움직인 횟수 )\n",
    "# h(x)는 다음 노드에서 목표 노드까지의 추정 거리 ( 8퍼즐에선 제자리에 있지 않는 숫자의 갯수)\n",
    "# 방문하지 않은 정점들 중 g(x) 값이 가장 매력적인 것부터 방문한다.\n",
    "# >> Vertex x 로부터 목적점에 이르는 잔여거리의 추정치 h(x)는 실제치보다 크면 안된다.\n",
    "# 합인 f(x)가 최소가 되는 방향으로 움직이면 목표에 도달하게 된다.\n",
    "# h(x)==0 이 되는 노드가 목표노드\n",
    "\n",
    "# 가중치는 g(x) \n",
    "# 추정 잔여거리 h(x)는 미리 계산 해놓는것\n",
    "# 추정 잔여거리를 사용함으로써 탐색의 단계가 현저히 줄었다.\n",
    "\n",
    "# 사용처 : 스타크래프트,8퍼즐,지도,,,\n",
    "# 단, 목적지가 정해져있을때 유용함\n",
    "# 추정치는 직선거리로 사용"
   ]
  },
  {
   "cell_type": "code",
   "execution_count": 1,
   "metadata": {},
   "outputs": [
    {
     "data": {
      "text/plain": [
       "<function TextIOWrapper.close()>"
      ]
     },
     "execution_count": 1,
     "metadata": {},
     "output_type": "execute_result"
    }
   ],
   "source": [
    "f = open(\"file.txt\",'w')\n",
    "f.close"
   ]
  },
  {
   "cell_type": "code",
   "execution_count": 2,
   "metadata": {},
   "outputs": [],
   "source": [
    "f = open('file.txt','w')\n",
    "for i in range(1,11):\n",
    "    data = '%d번째 줄입니다.\\n' % i\n",
    "    f.write(data)\n",
    "f.close()"
   ]
  },
  {
   "cell_type": "code",
   "execution_count": 5,
   "metadata": {},
   "outputs": [
    {
     "name": "stdout",
     "output_type": "stream",
     "text": [
      "1번째 줄입니다.\n",
      "\n"
     ]
    }
   ],
   "source": [
    "f = open('file.txt','r')\n",
    "line = f.readline()\n",
    "print(line)\n",
    "f.close()"
   ]
  },
  {
   "cell_type": "code",
   "execution_count": 6,
   "metadata": {},
   "outputs": [
    {
     "name": "stdout",
     "output_type": "stream",
     "text": [
      "1번째 줄입니다.\n",
      "\n",
      "2번째 줄입니다.\n",
      "\n",
      "3번째 줄입니다.\n",
      "\n",
      "4번째 줄입니다.\n",
      "\n",
      "5번째 줄입니다.\n",
      "\n",
      "6번째 줄입니다.\n",
      "\n",
      "7번째 줄입니다.\n",
      "\n",
      "8번째 줄입니다.\n",
      "\n",
      "9번째 줄입니다.\n",
      "\n",
      "10번째 줄입니다.\n",
      "\n"
     ]
    }
   ],
   "source": [
    "f = open('file.txt','r')\n",
    "while True:\n",
    "    line = f.readline()\n",
    "    if not line: break\n",
    "    print(line)\n",
    "f.close()"
   ]
  },
  {
   "cell_type": "code",
   "execution_count": 8,
   "metadata": {},
   "outputs": [
    {
     "name": "stdout",
     "output_type": "stream",
     "text": [
      "['1번째 줄입니다.\\n', '2번째 줄입니다.\\n', '3번째 줄입니다.\\n', '4번째 줄입니다.\\n', '5번째 줄입니다.\\n', '6번째 줄입니다.\\n', '7번째 줄입니다.\\n', '8번째 줄입니다.\\n', '9번째 줄입니다.\\n', '10번째 줄입니다.\\n']\n",
      "1번째 줄입니다.\n",
      "\n",
      "2번째 줄입니다.\n",
      "\n",
      "3번째 줄입니다.\n",
      "\n",
      "4번째 줄입니다.\n",
      "\n",
      "5번째 줄입니다.\n",
      "\n",
      "6번째 줄입니다.\n",
      "\n",
      "7번째 줄입니다.\n",
      "\n",
      "8번째 줄입니다.\n",
      "\n",
      "9번째 줄입니다.\n",
      "\n",
      "10번째 줄입니다.\n",
      "\n"
     ]
    }
   ],
   "source": [
    "f = open('file.txt','r')\n",
    "lines = f.readlines()\n",
    "print(lines)\n",
    "for line in lines:\n",
    "    print(line)\n",
    "f.close()"
   ]
  },
  {
   "cell_type": "code",
   "execution_count": 9,
   "metadata": {},
   "outputs": [
    {
     "name": "stdout",
     "output_type": "stream",
     "text": [
      "1번째 줄입니다.\n",
      "2번째 줄입니다.\n",
      "3번째 줄입니다.\n",
      "4번째 줄입니다.\n",
      "5번째 줄입니다.\n",
      "6번째 줄입니다.\n",
      "7번째 줄입니다.\n",
      "8번째 줄입니다.\n",
      "9번째 줄입니다.\n",
      "10번째 줄입니다.\n",
      "\n"
     ]
    }
   ],
   "source": [
    "f = open('file.txt','r')\n",
    "data = f.read()\n",
    "print(data)\n",
    "f.close()"
   ]
  },
  {
   "cell_type": "code",
   "execution_count": 6,
   "metadata": {},
   "outputs": [
    {
     "name": "stdout",
     "output_type": "stream",
     "text": [
      "<class 'list'>\n"
     ]
    }
   ],
   "source": [
    "print(type(a))"
   ]
  },
  {
   "cell_type": "code",
   "execution_count": 7,
   "metadata": {},
   "outputs": [
    {
     "name": "stdout",
     "output_type": "stream",
     "text": [
      "[[0, 1, 11], [0, 2, 9], [0, 3, 8], [1, 4, 8], [1, 5, 8], [2, 1, 3], [2, 3, 6], [2, 6, 1], [3, 6, 10], [4, 5, 7], [5, 2, 12], [5, 7, 5], [6, 7, 2], [7, 4, 4]]\n"
     ]
    }
   ],
   "source": [
    "print(a)"
   ]
  },
  {
   "cell_type": "code",
   "execution_count": null,
   "metadata": {},
   "outputs": [],
   "source": []
  }
 ],
 "metadata": {
  "kernelspec": {
   "display_name": "Python 3",
   "language": "python",
   "name": "python3"
  },
  "language_info": {
   "codemirror_mode": {
    "name": "ipython",
    "version": 3
   },
   "file_extension": ".py",
   "mimetype": "text/x-python",
   "name": "python",
   "nbconvert_exporter": "python",
   "pygments_lexer": "ipython3",
   "version": "3.7.3"
  }
 },
 "nbformat": 4,
 "nbformat_minor": 4
}
